{
  "cells": [
    {
      "cell_type": "markdown",
      "metadata": {
        "id": "pFxEsBHoc_OZ"
      },
      "source": [
        "#Amazon DataSet"
      ]
    },
    {
      "cell_type": "code",
      "execution_count": null,
      "metadata": {
        "id": "0AZh-hjEQNFm"
      },
      "outputs": [],
      "source": [
        "from google.colab import drive\n",
        "drive.mount('/content/drive')"
      ]
    },
    {
      "cell_type": "code",
      "execution_count": null,
      "metadata": {
        "id": "8djLfms6SDqt"
      },
      "outputs": [],
      "source": [
        "path = '/content/drive/Shareddrives/IDS Project/'"
      ]
    },
    {
      "cell_type": "code",
      "execution_count": null,
      "metadata": {
        "id": "telCRn9hQJb4"
      },
      "outputs": [],
      "source": [
        "import pandas as pd\n",
        "import json\n",
        "import numpy as np\n",
        "import seaborn as sns\n",
        "import matplotlib.pyplot as plt\n",
        "from sklearn import preprocessing\n",
        "from sklearn.preprocessing import StandardScaler  # For scaling dataset\n",
        "from sklearn.cluster import KMeans, AgglomerativeClustering, AffinityPropagation \n",
        "from sklearn.model_selection import train_test_split\n",
        "from sklearn.linear_model import LinearRegression\n",
        "from sklearn.preprocessing import LabelEncoder\n",
        "from sklearn.metrics import mean_absolute_error\n",
        "from sklearn.tree import DecisionTreeRegressor\n",
        "%matplotlib inline"
      ]
    },
    {
      "cell_type": "markdown",
      "metadata": {
        "id": "8LMDVqaLgTen"
      },
      "source": [
        "## Data Prepocessing\n",
        "\n"
      ]
    },
    {
      "cell_type": "markdown",
      "metadata": {
        "id": "zLi0Q4AAhOfV"
      },
      "source": [
        "### Amazon CSV\n"
      ]
    },
    {
      "cell_type": "code",
      "execution_count": null,
      "metadata": {
        "id": "KOqhmC4MSLbQ"
      },
      "outputs": [],
      "source": [
        "df = pd.read_csv(path + 'All_Beauty.csv', header = None)\n",
        "df.columns = [\"Item\", \"User\", \"Rating\", \"Timestamp\"]\n",
        "df"
      ]
    },
    {
      "cell_type": "code",
      "execution_count": null,
      "metadata": {
        "id": "nfC5eHzOSNhg"
      },
      "outputs": [],
      "source": [
        "import datetime as dt\n",
        "\n",
        "timestamp = df[\"Timestamp\"]\n",
        "dateTime = []\n",
        "\n",
        "for ts in timestamp:\n",
        "    ab = dt.datetime.fromtimestamp(int(ts)).date()\n",
        "    dateTime.insert(ts, ab)\n",
        "\n",
        "df['Datetime'] = pd.Series(dateTime)\n",
        "df.drop_duplicates(inplace=True)\n",
        "df"
      ]
    },
    {
      "cell_type": "markdown",
      "metadata": {
        "id": "i0QSEEZ6hSyC"
      },
      "source": [
        "### Amazon JSON"
      ]
    },
    {
      "cell_type": "code",
      "execution_count": null,
      "metadata": {
        "id": "WCq9b6ouhYfV"
      },
      "outputs": [],
      "source": [
        "entries = []\n",
        "for line in open(path + 'meta_All_Beauty.json', 'r'):\n",
        "    entries.append(json.loads(line))"
      ]
    },
    {
      "cell_type": "code",
      "execution_count": null,
      "metadata": {
        "id": "uavkPl90hhBD"
      },
      "outputs": [],
      "source": [
        "df2 = pd.DataFrame(entries)\n",
        "df2.columns"
      ]
    },
    {
      "cell_type": "code",
      "execution_count": null,
      "metadata": {
        "id": "ix_9OuICmlIh"
      },
      "outputs": [],
      "source": [
        "df2 = pd.DataFrame(entries)\n",
        "df2"
      ]
    },
    {
      "cell_type": "code",
      "execution_count": null,
      "metadata": {
        "id": "ZaPU7cfTROBx"
      },
      "outputs": [],
      "source": [
        "df2 = pd.DataFrame(entries)\n",
        "df2 = df2.replace(\"\", np.nan)\n",
        "df2.drop(columns=['category', 'tech1', 'fit', 'tech2', 'feature'], inplace=True)\n",
        "df2.description = df2.description.apply(lambda y: np.nan if len(y)==0 else y)\n",
        "df2.also_buy = df2.also_buy.apply(lambda y: np.nan if len(y)==0 else y)\n",
        "df2.image = df2.image.apply(lambda y: np.nan if len(y)==0 else y)\n",
        "df2.also_view = df2.also_view.apply(lambda y: np.nan if len(y)==0 else y)\n",
        "df2.details = df2.details.apply(lambda y: np.nan if len(y)==0 else y)\n",
        "df2['rank'] = df2['rank'].apply(lambda y: np.nan if len(y)==0 else y)\n",
        "df2['price'] = df2['price'].replace({'\\$':''}, regex = True)\n",
        "df2['price']  = pd.to_numeric(df2['price'] , errors='coerce')\n",
        "bpr = (df2['rank'].str.contains('Beauty')) & (df2['asin'].notnull())\n",
        "df2['rank'] = df2['rank'][bpr].str.extract('(.*) in', expand = False)\n",
        "df2['rank'] = df2['rank'].str.replace(\",\",\"\")\n",
        "df2['rank'] = pd.to_numeric(df2['rank'], errors='coerce')\n",
        "df2.to_csv('BeautyJson.csv')\n",
        "df2"
      ]
    },
    {
      "cell_type": "markdown",
      "metadata": {
        "id": "mLMUNpn6hw_y"
      },
      "source": [
        "## Research Question"
      ]
    },
    {
      "cell_type": "markdown",
      "metadata": {
        "id": "pBpOjzRJNvqp"
      },
      "source": [
        "### Q1 Descriptive Question\n",
        "Which month or period has the highest sales for the Amazon beauty products?"
      ]
    },
    {
      "cell_type": "code",
      "execution_count": null,
      "metadata": {
        "id": "C-yvn_qTONFk"
      },
      "outputs": [],
      "source": [
        "df.sort_values('Datetime', ascending = True) # Datetime shows from 2000 - 2018\n",
        "df['Datetime'].nunique()  # We get 5288 unique date rows here "
      ]
    },
    {
      "cell_type": "code",
      "execution_count": null,
      "metadata": {
        "id": "jfC-omr1OTlu"
      },
      "outputs": [],
      "source": [
        "#Dataframe that shows number of sales of every item each day\n",
        "salescount = df.groupby(['Datetime', 'Item'])['Item'].count().rename(\"Sales\")\n",
        "salescount = salescount.to_frame()\n",
        "salescount"
      ]
    },
    {
      "cell_type": "code",
      "execution_count": null,
      "metadata": {
        "id": "1rCsq3E2b7fC"
      },
      "outputs": [],
      "source": [
        "#Dataframe that shows the sum up number of sales in each day\n",
        "sumup = salescount.groupby(['Datetime'])['Sales'].sum().reset_index(name = \"Sum of item\")\n",
        "sumup"
      ]
    },
    {
      "cell_type": "code",
      "execution_count": null,
      "metadata": {
        "id": "lUHUVkRycZxT"
      },
      "outputs": [],
      "source": [
        "#Add a new column \"Month\" which extract from Datetime \n",
        "sumup['Datetime'] = sumup['Datetime'].astype(str)\n",
        "sumup['Month'] = sumup['Datetime'].str.split('-').str[1]\n",
        "sumup"
      ]
    },
    {
      "cell_type": "code",
      "execution_count": null,
      "metadata": {
        "id": "oU4oYQGOc0s_"
      },
      "outputs": [],
      "source": [
        "#Dataframe that shows the total items accumulated in every month \n",
        "summonth = sumup.groupby(['Month'])['Sum of item'].sum().reset_index(name = \"Total items accumulated in particular month\")\n",
        "summonth"
      ]
    },
    {
      "cell_type": "code",
      "execution_count": null,
      "metadata": {
        "id": "_M8_5MwDOVJN"
      },
      "outputs": [],
      "source": [
        "#Numerical style month changed to word style month\n",
        "look_up = {'01': 'Jan', '02': 'Feb', '03': 'Mar', '04': 'Apr', '05': 'May', '06': 'Jun', '07': 'Jul', '08': 'Aug', '09': 'Sep', '10': 'Oct', '11': 'Nov', '12': 'Dec'}\n",
        "summonth['Month'] = summonth['Month'].apply(lambda x: look_up[x])\n",
        "summonth[\"Total items accumulated in particular month\"].sum()   #362275\n",
        "summonth"
      ]
    },
    {
      "cell_type": "code",
      "execution_count": null,
      "metadata": {
        "id": "n9qKbbvbOgwa"
      },
      "outputs": [],
      "source": [
        "summonth.describe()"
      ]
    },
    {
      "cell_type": "markdown",
      "metadata": {
        "id": "NviyYhwueCoI"
      },
      "source": [
        "Extra dataframe that shows total items accumulated in every year."
      ]
    },
    {
      "cell_type": "code",
      "execution_count": null,
      "metadata": {
        "id": "gi3srfxQOonc"
      },
      "outputs": [],
      "source": [
        "salescount2 = df.groupby(['Datetime', 'Item'])['Item'].count().rename(\"Sales\")\n",
        "salescount2 = salescount2.to_frame()\n",
        "salescount2\n",
        "\n",
        "sumup2 = salescount2.groupby(['Datetime'])['Sales'].sum().reset_index(name = \"Sum of item\")\n",
        "sumup2\n",
        "\n",
        "sumup2['Datetime'] = sumup2['Datetime'].astype(str)\n",
        "sumup2['Year'] = sumup2['Datetime'].str.split('-').str[0]\n",
        "sumup2\n",
        "\n",
        "sumyear = sumup2.groupby(['Year'])['Sum of item'].sum().reset_index(name = \"Total items accumulated in that particular year\")\n",
        "sumyear[\"Total items accumulated in that particular year\"].sum()   #362275\n",
        "sumyear"
      ]
    },
    {
      "cell_type": "markdown",
      "metadata": {
        "id": "xAG7Omtiex9e"
      },
      "source": [
        "#### Data Visualisation"
      ]
    },
    {
      "cell_type": "code",
      "execution_count": null,
      "metadata": {
        "id": "Ejjwy8llOkSH"
      },
      "outputs": [],
      "source": [
        "import pandas as pd\n",
        "import matplotlib.pyplot as plt\n",
        "  \n",
        "summonth.plot(x = 'Month', y = 'Total items accumulated in particular month', kind = 'line', figsize = (15,8))\n",
        "plt.ylim(25000, 35000)\n",
        "\n",
        "plt.title('Total number of beauty products sold in every particular month from 2000 - 2018')\n",
        "plt.xticks(summonth.index, summonth['Month'].values)\n",
        "plt.ylabel('Total Items Count')\n",
        "plt.show()"
      ]
    },
    {
      "cell_type": "code",
      "execution_count": null,
      "metadata": {
        "id": "yA1H1NrlOtWs"
      },
      "outputs": [],
      "source": [
        "import pandas as pd\n",
        "import matplotlib.pyplot as plt\n",
        "  \n",
        "sumyear.plot(x = 'Year', y = 'Total items accumulated in that particular year', kind = 'line', figsize = (15,8))\n",
        "plt.ylim(0, 110000)\n",
        "\n",
        "plt.title('Total number of beauty products sold in every particular year from 2000 - 2018')\n",
        "plt.xticks(sumyear.index, sumyear['Year'].values)\n",
        "plt.ylabel('Total Items Count')\n",
        "plt.show()"
      ]
    },
    {
      "cell_type": "markdown",
      "metadata": {
        "id": "veTAnvpeh4Eq"
      },
      "source": [
        "### Q2 Causal Question\n",
        "Does higher rating of beuaty products leads to higher amount of sale? "
      ]
    },
    {
      "cell_type": "code",
      "execution_count": null,
      "metadata": {
        "id": "5DEzYndxxjki"
      },
      "outputs": [],
      "source": [
        "rate = df.groupby(['Item'])[\"Rating\"].mean().sort_index()\n",
        "rate.to_frame()"
      ]
    },
    {
      "cell_type": "code",
      "execution_count": null,
      "metadata": {
        "id": "-XzrOhZWxmIf"
      },
      "outputs": [],
      "source": [
        "sale = df['Item'].value_counts().rename(index = 'Sale').sort_index()\n",
        "sale.to_frame()"
      ]
    },
    {
      "cell_type": "code",
      "execution_count": null,
      "metadata": {
        "id": "rwv6oPmQiFzq"
      },
      "outputs": [],
      "source": [
        "rate_sale = pd.merge(rate,sale,on=sale.index).rename(columns={'key_0':'Item'})\n",
        "rate_sale = rate_sale.sort_values(by=['Rating'],ascending=False)\n",
        "rate_sale"
      ]
    },
    {
      "cell_type": "code",
      "execution_count": null,
      "metadata": {
        "id": "5sIkk2BriX7t"
      },
      "outputs": [],
      "source": [
        "rate_sale.describe()"
      ]
    },
    {
      "cell_type": "markdown",
      "metadata": {
        "id": "6w7JWQ4gzBI3"
      },
      "source": [
        "#### Data Visualisation"
      ]
    },
    {
      "cell_type": "code",
      "execution_count": null,
      "metadata": {
        "id": "pyv_e9tvicWj"
      },
      "outputs": [],
      "source": [
        "fig = plt.figure(figsize=(5,5))\n",
        "sns.regplot(x='Rating', y='Sale', data=rate_sale, scatter_kws={\"color\": \"blue\"}, line_kws={\"color\": \"red\"})"
      ]
    },
    {
      "cell_type": "code",
      "execution_count": null,
      "metadata": {
        "id": "WBJ4hb2OiuRW"
      },
      "outputs": [],
      "source": [
        "r = rate_sale[['Rating','Sale']].corr()\n",
        "print(\"Correlation Coefficient, r\")\n",
        "print(r,\"\\n\")\n",
        "\n",
        "sns.heatmap(r, cmap='rainbow')"
      ]
    },
    {
      "cell_type": "code",
      "execution_count": null,
      "metadata": {
        "id": "nuZZ4Glji4iZ"
      },
      "outputs": [],
      "source": [
        "rSquare = r * r\n",
        "print(\"Coefficient of Determination, r^2\")\n",
        "print(rSquare)"
      ]
    },
    {
      "cell_type": "markdown",
      "metadata": {
        "id": "VHzB-ZwXO9Qy"
      },
      "source": [
        "### Q3 Exploratory Question\n",
        "What type of product is most frequently bought by people who buy  Amazon beauty products?\n"
      ]
    },
    {
      "cell_type": "code",
      "execution_count": null,
      "metadata": {
        "id": "73XOCg31QsdB"
      },
      "outputs": [],
      "source": [
        "#DataFrame Item and Sale\n",
        "sale1 = df['Item'].value_counts().rename(index = 'Sale').sort_index()\n",
        "dfSale = sale1.to_frame().reset_index()\n",
        "dfSale = dfSale.rename(columns={'index': 'Item'})\n",
        "dfSale"
      ]
    },
    {
      "cell_type": "code",
      "execution_count": null,
      "metadata": {
        "id": "tp6wc7nRRyYZ"
      },
      "outputs": [],
      "source": [
        "df3 = pd.DataFrame(data=df2, columns=['asin','also_buy', 'price', 'rank'])\n",
        "df3 = df3.rename(columns={'asin':'Item'})\n",
        "df3.dropna(subset = ['also_buy'], inplace=True)\n",
        "df3"
      ]
    },
    {
      "cell_type": "code",
      "execution_count": null,
      "metadata": {
        "id": "2XScko-VSAPk"
      },
      "outputs": [],
      "source": [
        "#Calculate the appearance number of also_buy\n",
        "numBuy = []\n",
        "for x in range(df3['also_buy'].str.len().max()):\n",
        "    buyList = df3['also_buy'].str.get(x)\n",
        "    for y in buyList:\n",
        "        numBuy.append(y)\n",
        "numBuy2 = pd.DataFrame(data=numBuy)\n",
        "numBuy2 = numBuy2.value_counts()\n",
        "df4 = pd.DataFrame(data=numBuy2, columns=['Number of Also Buy']).reset_index()\n",
        "df4.rename(columns={0: 'Item'}, inplace=True)\n",
        "df4"
      ]
    },
    {
      "cell_type": "code",
      "execution_count": null,
      "metadata": {
        "id": "r4FKDgZGSTpo"
      },
      "outputs": [],
      "source": [
        "df5 = pd.merge(df3, df4, on=[\"Item\"])\n",
        "df5"
      ]
    },
    {
      "cell_type": "code",
      "execution_count": null,
      "metadata": {
        "id": "BPdXwOx0SbQ5"
      },
      "outputs": [],
      "source": [
        "dfAlsoBuy = pd.merge(dfSale, df5, on=[\"Item\"])\n",
        "dfAlsoBuy.drop(columns=['also_buy'], inplace=True)\n",
        "dfAlsoBuy.drop_duplicates(inplace=True)\n",
        "dfAlsoBuy.dropna(subset = [\"price\"], inplace=True)\n",
        "dfAlsoBuy.reset_index(inplace=True)\n",
        "dfAlsoBuy.drop(columns=['index'], inplace=True)\n",
        "dfAlsoBuy"
      ]
    },
    {
      "cell_type": "code",
      "execution_count": null,
      "metadata": {
        "id": "JHmURYMLS5-T"
      },
      "outputs": [],
      "source": [
        "df6 = pd.DataFrame(data=df2, columns=['asin','also_view', 'price', 'rank'])\n",
        "df6 = df6.rename(columns={'asin':'Item'})\n",
        "df6.dropna(subset = ['also_view'], inplace=True)\n",
        "df6"
      ]
    },
    {
      "cell_type": "code",
      "execution_count": null,
      "metadata": {
        "id": "D6ibyvxnTDlR"
      },
      "outputs": [],
      "source": [
        "numView = []\n",
        "for x in range(df6['also_view'].str.len().max()):\n",
        "    viewList = df6['also_view'].str.get(x)\n",
        "    for y in viewList:\n",
        "        numView.append(y)\n",
        "numView2 = pd.DataFrame(data=numView)\n",
        "numView2 = numView2.value_counts()\n",
        "df7 = pd.DataFrame(data=numView2, columns=['Number of Also View']).reset_index()\n",
        "df7.rename(columns={0: 'Item'}, inplace=True)\n",
        "df7"
      ]
    },
    {
      "cell_type": "code",
      "execution_count": null,
      "metadata": {
        "id": "C3cO675bTUiL"
      },
      "outputs": [],
      "source": [
        "df8 = pd.merge(df6, df7, on=[\"Item\"])\n",
        "df8"
      ]
    },
    {
      "cell_type": "code",
      "execution_count": null,
      "metadata": {
        "id": "ieTmz1rjTfn2"
      },
      "outputs": [],
      "source": [
        "dfAlsoView = pd.merge(dfSale, df8, on=[\"Item\"])\n",
        "dfAlsoView.drop(columns=['also_view'], inplace=True)\n",
        "dfAlsoView.drop_duplicates(inplace=True)\n",
        "dfAlsoView.dropna(subset=['price', 'rank'], inplace=True)\n",
        "dfAlsoView.reset_index(inplace=True)\n",
        "dfAlsoView.drop(columns=['index'], inplace=True)\n",
        "dfAlsoView"
      ]
    },
    {
      "cell_type": "markdown",
      "metadata": {
        "id": "30ekamdBd7C4"
      },
      "source": [
        "####Correlational Analysis"
      ]
    },
    {
      "cell_type": "code",
      "execution_count": null,
      "metadata": {
        "id": "IvR1M_XWT31b"
      },
      "outputs": [],
      "source": [
        "dfAlsoBuyView = pd.merge(dfAlsoBuy, dfAlsoView, on=[\"Item\", 'Sale', 'price', 'rank'])\n",
        "dfAlsoBuyView"
      ]
    },
    {
      "cell_type": "code",
      "execution_count": null,
      "metadata": {
        "id": "ng4f-oPaUKxL"
      },
      "outputs": [],
      "source": [
        "cor = dfAlsoBuyView.corr()\n",
        "display(cor) "
      ]
    },
    {
      "cell_type": "code",
      "execution_count": null,
      "metadata": {
        "id": "1FTI-mBUd0kj"
      },
      "outputs": [],
      "source": [
        "sns.heatmap(cor, square = True)"
      ]
    },
    {
      "cell_type": "markdown",
      "metadata": {
        "id": "xbkYCgPrVpLJ"
      },
      "source": [
        "####Data Mining: Clustering"
      ]
    },
    {
      "cell_type": "code",
      "execution_count": null,
      "metadata": {
        "id": "omutcgQQ7vYA"
      },
      "outputs": [],
      "source": [
        "dfAlsoBuyView"
      ]
    },
    {
      "cell_type": "code",
      "execution_count": null,
      "metadata": {
        "id": "y6-S51itVnvq"
      },
      "outputs": [],
      "source": [
        "filter = dfAlsoBuyView.groupby(['Sale'])[['Number of Also Buy', 'Number of Also View', 'price', 'rank']].mean()\n",
        "filter"
      ]
    },
    {
      "cell_type": "code",
      "execution_count": null,
      "metadata": {
        "id": "GRvBO3vBV1dS"
      },
      "outputs": [],
      "source": [
        "ss = StandardScaler()\n",
        "X = ss.fit_transform(filter)\n",
        "print(filter)\n",
        "print(X) "
      ]
    },
    {
      "cell_type": "code",
      "execution_count": null,
      "metadata": {
        "id": "i129LLnvW4TB"
      },
      "outputs": [],
      "source": [
        "dfClus = pd.DataFrame(data=filter)\n",
        "dfClus"
      ]
    },
    {
      "cell_type": "code",
      "execution_count": null,
      "metadata": {
        "id": "bVnuRy9TZy7M"
      },
      "outputs": [],
      "source": [
        "def plot_kmeans_scatter2(v1,v2,kmeans_labels):\n",
        "    fig = plt.figure(figsize=(8,6))\n",
        "    ax = fig.add_subplot(111)\n",
        "    scatter = ax.scatter(v1,v2,c=kmeans_labels[0],s=50,cmap='jet',alpha=0.7)\n",
        "    ax.set_title('K-Means Clustering')\n",
        "    ax.set_xlabel(v1.name)\n",
        "    ax.set_ylabel(v2.name)\n",
        "    plt.colorbar(scatter)\n",
        "    plt.show()"
      ]
    },
    {
      "cell_type": "code",
      "execution_count": null,
      "metadata": {
        "id": "SyJ1RkX7Z26r"
      },
      "outputs": [],
      "source": [
        "v1 = dfClus['Number of Also Buy']\n",
        "v2 = dfClus['Number of Also View']\n",
        "v3 = dfClus['price']\n",
        "v4 = dfClus['rank']"
      ]
    },
    {
      "cell_type": "code",
      "execution_count": null,
      "metadata": {
        "id": "zVpWAzU0XXhJ"
      },
      "outputs": [],
      "source": [
        "print(\"K Mean = 2\")\n",
        "model= KMeans(2,verbose=0)\n",
        "model.fit(X)\n",
        "print(model.labels_.shape)\n",
        "print(model.labels_)\n",
        "print(\"Inertia (kmean = 2):\", model.inertia_)\n",
        "print(\"Iteration (kmean = 2):\", model.n_iter_)\n",
        "kmeans_labels = pd.DataFrame(model.labels_)\n",
        "print(\"\\n\")"
      ]
    },
    {
      "cell_type": "code",
      "execution_count": null,
      "metadata": {
        "id": "0Fc7Akb5Yej4"
      },
      "outputs": [],
      "source": [
        "plot_kmeans_scatter2(v2,v1,kmeans_labels) \n",
        "plot_kmeans_scatter2(v4,v1,kmeans_labels) \n",
        "plot_kmeans_scatter2(v4,v2,kmeans_labels) "
      ]
    },
    {
      "cell_type": "markdown",
      "metadata": {
        "id": "aCFPkxFEa2ZQ"
      },
      "source": [
        "###Q4 Predictive Question\n",
        "Will people buy the product which has the highest ranking in beauty and personal care?"
      ]
    },
    {
      "cell_type": "code",
      "execution_count": null,
      "metadata": {
        "id": "Y0_tQZmqbRPc"
      },
      "outputs": [],
      "source": [
        "dfSale"
      ]
    },
    {
      "cell_type": "code",
      "execution_count": null,
      "metadata": {
        "id": "pnnZr-gwbFqq"
      },
      "outputs": [],
      "source": [
        "df4"
      ]
    },
    {
      "cell_type": "markdown",
      "metadata": {
        "id": "KGIRXuexgt3B"
      },
      "source": [
        "####Linear Regression"
      ]
    },
    {
      "cell_type": "code",
      "execution_count": null,
      "metadata": {
        "id": "djP-Rsr-bfRN"
      },
      "outputs": [],
      "source": [
        "dfRank = pd.DataFrame(data=df2, columns=['asin','rank'])\n",
        "dfRank = dfRank.rename(columns={'asin':'Item'})\n",
        "dfRank.dropna(subset=['rank'], inplace=True)\n",
        "dfRank"
      ]
    },
    {
      "cell_type": "code",
      "execution_count": null,
      "metadata": {
        "id": "GBZOtXmtb3k-"
      },
      "outputs": [],
      "source": [
        "dfmodel = pd.merge(dfRank, dfSale, on=[\"Item\"])\n",
        "dfmodel"
      ]
    },
    {
      "cell_type": "code",
      "execution_count": null,
      "metadata": {
        "id": "RIpE7iY0cCBz"
      },
      "outputs": [],
      "source": [
        "dfmodel1 = pd.merge(df4, dfmodel, on=[\"Item\"])\n",
        "dfmodel1"
      ]
    },
    {
      "cell_type": "code",
      "execution_count": null,
      "metadata": {
        "id": "GS83O6I6cJKX"
      },
      "outputs": [],
      "source": [
        "dfmodel2 = pd.DataFrame(data=dfmodel1)\n",
        "dfmodel2.drop(columns=['Item'], inplace=True)\n",
        "dfmodel2"
      ]
    },
    {
      "cell_type": "code",
      "execution_count": null,
      "metadata": {
        "id": "J-dj5vdt86A8"
      },
      "outputs": [],
      "source": [
        "dfmodel2.describe()"
      ]
    },
    {
      "cell_type": "code",
      "execution_count": null,
      "metadata": {
        "id": "-FZvoiZFcQAp"
      },
      "outputs": [],
      "source": [
        "X = dfmodel2.drop(\"Sale\", axis=1)     # drop labels from original data\n",
        "y = dfmodel2[\"Sale\"].copy() "
      ]
    },
    {
      "cell_type": "code",
      "execution_count": null,
      "metadata": {
        "id": "3HFmyRbgcTw9"
      },
      "outputs": [],
      "source": [
        "X_train, X_test, y_train, y_test = train_test_split(X, y, random_state=1)"
      ]
    },
    {
      "cell_type": "code",
      "execution_count": null,
      "metadata": {
        "id": "JRr3S8AicWgo"
      },
      "outputs": [],
      "source": [
        "reg = LinearRegression().fit(X_train, y_train) "
      ]
    },
    {
      "cell_type": "code",
      "execution_count": null,
      "metadata": {
        "id": "1yLfoadEcYOM"
      },
      "outputs": [],
      "source": [
        "reg.coef_"
      ]
    },
    {
      "cell_type": "code",
      "execution_count": null,
      "metadata": {
        "id": "1PDSf_hDcZC6"
      },
      "outputs": [],
      "source": [
        "reg.intercept_"
      ]
    },
    {
      "cell_type": "code",
      "execution_count": null,
      "metadata": {
        "id": "7aqkUeYVceBf"
      },
      "outputs": [],
      "source": [
        "reg.score(X_test, y_test)"
      ]
    },
    {
      "cell_type": "code",
      "execution_count": null,
      "metadata": {
        "id": "89-YJbdUciS-"
      },
      "outputs": [],
      "source": [
        "some_data = X_test.iloc[:5]   # take first 5 entries from X_test\n",
        "predicted_sales_values = reg.predict(some_data)\n",
        "predicted_sales_values"
      ]
    },
    {
      "cell_type": "code",
      "execution_count": null,
      "metadata": {
        "id": "uqq-C0nZckem"
      },
      "outputs": [],
      "source": [
        "actual_sales_values = y_test.iloc[:5].values     # here's the first 5 entries from y_test, which are the 'ground truth'\n",
        "actual_sales_values"
      ]
    },
    {
      "cell_type": "code",
      "execution_count": null,
      "metadata": {
        "id": "vaLjUTg8cm-w"
      },
      "outputs": [],
      "source": [
        "np.abs(predicted_sales_values-actual_sales_values)"
      ]
    },
    {
      "cell_type": "code",
      "execution_count": null,
      "metadata": {
        "id": "tUj_rCBXcrQF"
      },
      "outputs": [],
      "source": [
        "sns.regplot(x=\"rank\", y=\"Sale\", data=dfmodel2, \n",
        "            scatter_kws={\"color\": \"blue\"}, line_kws={\"color\": \"red\"})\n",
        "plt.show()"
      ]
    }
  ],
  "metadata": {
    "colab": {
      "collapsed_sections": [
        "8LMDVqaLgTen",
        "zLi0Q4AAhOfV",
        "i0QSEEZ6hSyC",
        "pBpOjzRJNvqp",
        "xAG7Omtiex9e",
        "veTAnvpeh4Eq",
        "6w7JWQ4gzBI3",
        "VHzB-ZwXO9Qy",
        "gdO2zPK6g2SF",
        "f_6yW72-MAMf",
        "KW5RMcIBc1QX",
        "rQGRGs9HhYMp"
      ],
      "name": "GroupA3.ipynb",
      "provenance": []
    },
    "kernelspec": {
      "display_name": "Python 3",
      "language": "python",
      "name": "python3"
    },
    "language_info": {
      "name": "python",
      "version": "3.11.0 (main, Oct 24 2022, 18:26:48) [MSC v.1933 64 bit (AMD64)]"
    },
    "vscode": {
      "interpreter": {
        "hash": "c261aea317cc0286b3b3261fbba9abdec21eaa57589985bb7a274bf54d6cc0a7"
      }
    }
  },
  "nbformat": 4,
  "nbformat_minor": 0
}
